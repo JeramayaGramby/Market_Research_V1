{
 "cells": [
  {
   "attachments": {},
   "cell_type": "markdown",
   "metadata": {},
   "source": [
    "#### This code will pour all the data objects into an S3 bucket using Airflow to obtain search results and social media results quickly. It will retrieve Instagram, TikTok, Snapchat, Youtube, Twitter and Reddit API data categorized by geographical coordinate location. Then, it will collect SERP data from Google, Bing and Yahoo and categorize that data by geographic coordinate data. It will also collect GIS data and Census data on each geographic coordinate possible. This will help collect data on local housing markets and consumer price index data.   "
   ]
  },
  {
   "attachments": {},
   "cell_type": "markdown",
   "metadata": {},
   "source": [
    "#### Machine Learning Models (BERT Neural Networks, etc) equipped with ML OPS technology (EvidentlyAI API) will give users the ability to make trends and draw conclusions with real-time, accurate data. This may be used in conjunction with financial trading technologies to provide real-time sentiment analysis on posts concerning the stock market or a certain publicly traded company.  "
   ]
  },
  {
   "attachments": {},
   "cell_type": "markdown",
   "metadata": {},
   "source": [
    "##### This will then be displayed as a dashboard in Streamlit where users can see certain statistics based on what they need to see. For example, marketing teams will want to see the social media and search engine trends. The ATTOM API will also allow users the ability to see age trends, ,economic/socioeconomic trends, real estate trends and demographics"
   ]
  },
  {
   "attachments": {},
   "cell_type": "markdown",
   "metadata": {},
   "source": [
    "##### Collecting Top Instagram Posts by Geographic Coordinate:"
   ]
  },
  {
   "cell_type": "code",
   "execution_count": null,
   "metadata": {},
   "outputs": [],
   "source": [
    "import os\n",
    "import pip\n",
    "from numba import jit\n",
    "from instagrapi import Client\n",
    "\n",
    "%load_ext dotenv\n",
    "%dotenv\n",
    "@jit\n",
    "def instagram_data_extractor():\n",
    "    INSTAGRAM_USERNAME=load_dotenv('INSTAGRAM_USERNAME')\n",
    "    INSTAGRAM_PASSWORD=load_dotenv('INSTAGRAM_PASSWORD')\n",
    "    cl = Client()\n",
    "    cl.login(INSTAGRAM_USERNAME, INSTAGRAM_PASSWORD)\n"
   ]
  },
  {
   "attachments": {},
   "cell_type": "markdown",
   "metadata": {},
   "source": [
    "##### By using a DAG, Instagram search Results"
   ]
  },
  {
   "attachments": {},
   "cell_type": "markdown",
   "metadata": {},
   "source": [
    "##### Collecting Top TikTok Posts by Geographic Coordinate:"
   ]
  }
 ],
 "metadata": {
  "kernelspec": {
   "display_name": ".venv",
   "language": "python",
   "name": "python3"
  },
  "language_info": {
   "codemirror_mode": {
    "name": "ipython",
    "version": 3
   },
   "file_extension": ".py",
   "mimetype": "text/x-python",
   "name": "python",
   "nbconvert_exporter": "python",
   "pygments_lexer": "ipython3",
   "version": "3.10.8"
  },
  "orig_nbformat": 4,
  "vscode": {
   "interpreter": {
    "hash": "7ca1680247713407ad8eed4b370d83512626c0f818c0e09f654efc26ece8f332"
   }
  }
 },
 "nbformat": 4,
 "nbformat_minor": 2
}
