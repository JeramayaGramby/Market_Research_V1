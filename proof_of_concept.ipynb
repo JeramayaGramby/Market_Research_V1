{
 "cells": [
  {
   "attachments": {},
   "cell_type": "markdown",
   "metadata": {},
   "source": [
    "#### This code will pour all the data objects into an S3 bucket using Airflow to obtain search engine results and social media results quickly. It will retrieve Instagram, TikTok, Snapchat, Youtube, Twitter and Reddit API data categorized by geographical coordinate location. Then, it will collect SERP data from Google, Bing and Yahoo and categorize that data by geographic coordinate data. It will also collect GIS data and Census data on each geographic coordinate possible. This will help collect data on local housing markets and consumer price index data.   "
   ]
  },
  {
   "attachments": {},
   "cell_type": "markdown",
   "metadata": {},
   "source": [
    "#### Machine Learning Models (BERT Neural Networks, etc) equipped with ML OPS technology (EvidentlyAI API) will give users the ability to make trends and draw conclusions with real-time, accurate data. This may be used in conjunction with financial trading technologies to provide real-time sentiment analysis on posts concerning the stock market or a certain publicly traded company.  "
   ]
  },
  {
   "attachments": {},
   "cell_type": "markdown",
   "metadata": {},
   "source": [
    "##### This will then be displayed as a dashboard in Streamlit where users can see certain statistics based on what they need to see. For example, marketing teams will want to see the social media and search engine trends. The ATTOM API will also allow users the ability to see age trends, ,economic/socioeconomic trends, real estate trends and demographics"
   ]
  },
  {
   "attachments": {},
   "cell_type": "markdown",
   "metadata": {},
   "source": [
    "##### Collecting Top Instagram Posts by Geographic Coordinate:"
   ]
  },
  {
   "cell_type": "code",
   "execution_count": null,
   "metadata": {},
   "outputs": [],
   "source": [
    "import os\n",
    "import pip\n",
    "from numba import jit\n",
    "from instagrapi import Client\n",
    "import logging as log\n",
    "import geopy\n",
    "from airflow import DAG\n",
    "from datetime import datetime\n",
    "\n",
    "%load_ext dotenv\n",
    "%dotenv\n",
    "latitude=[]\n",
    "longitude=[]\n",
    "\n",
    "@jit\n",
    "def instagram_data_extractor(latitude,longitude):\n",
    "    try:\n",
    "        # Move the stuff below to the Instagram DAG file\n",
    "        with DAG(\"\",start_date=datetime(2023,17,3,12), schedule_interval=\"@daily\",):\n",
    "            now=datetime.now()\n",
    "            log.basicConfig(level=log.INFO, filename=f'{now} instagram_etl_log.csv', filemode='w', \n",
    "                format='%(asctime)s - %(levelname)s - %(message)s')\n",
    "            log.debug(f'')\n",
    "    \n",
    "            INSTAGRAM_USERNAME=load_dotenv('INSTAGRAM_USERNAME')\n",
    "            INSTAGRAM_PASSWORD=load_dotenv('INSTAGRAM_PASSWORD')\n",
    "    \n",
    "            cl = Client()\n",
    "            cl.login(INSTAGRAM_USERNAME, INSTAGRAM_PASSWORD)\n",
    "        \n",
    "        # Plug the geographic coordinates in as inputs for the function\n",
    "        # Get all the geographic coordinates and then run the geographic coordinates\n",
    "        \n",
    "\n",
    "    except Exception as e:\n",
    "        log.error(e, exc_info=True)\n",
    "\n",
    "    try:\n",
    "        for latitude in list(latitude):\n",
    "            for longitude in list(longitude):\n",
    "                instagram_data_extractor(latitude,longitude)\n",
    "    \n",
    "    except Exception as e:\n",
    "        log.error(e, exc_info=True)\n",
    "    \n",
    "    \n"
   ]
  },
  {
   "attachments": {},
   "cell_type": "markdown",
   "metadata": {},
   "source": [
    "##### Creating a list of all areas and geographic coordinates:"
   ]
  },
  {
   "cell_type": "code",
   "execution_count": 3,
   "metadata": {},
   "outputs": [
    {
     "ename": "GeocoderServiceError",
     "evalue": "Non-successful status code 502",
     "output_type": "error",
     "traceback": [
      "\u001b[1;31m---------------------------------------------------------------------------\u001b[0m",
      "\u001b[1;31mAdapterHTTPError\u001b[0m                          Traceback (most recent call last)",
      "File \u001b[1;32mc:\\Users\\jerry\\Python_Projects\\test_environment3\\.venv\\lib\\site-packages\\geopy\\geocoders\\base.py:368\u001b[0m, in \u001b[0;36mGeocoder._call_geocoder\u001b[1;34m(self, url, callback, timeout, is_json, headers)\u001b[0m\n\u001b[0;32m    367\u001b[0m \u001b[39mif\u001b[39;00m is_json:\n\u001b[1;32m--> 368\u001b[0m     result \u001b[39m=\u001b[39m \u001b[39mself\u001b[39;49m\u001b[39m.\u001b[39;49madapter\u001b[39m.\u001b[39;49mget_json(url, timeout\u001b[39m=\u001b[39;49mtimeout, headers\u001b[39m=\u001b[39;49mreq_headers)\n\u001b[0;32m    369\u001b[0m \u001b[39melse\u001b[39;00m:\n",
      "File \u001b[1;32mc:\\Users\\jerry\\Python_Projects\\test_environment3\\.venv\\lib\\site-packages\\geopy\\adapters.py:447\u001b[0m, in \u001b[0;36mRequestsAdapter.get_json\u001b[1;34m(self, url, timeout, headers)\u001b[0m\n\u001b[0;32m    446\u001b[0m \u001b[39mdef\u001b[39;00m \u001b[39mget_json\u001b[39m(\u001b[39mself\u001b[39m, url, \u001b[39m*\u001b[39m, timeout, headers):\n\u001b[1;32m--> 447\u001b[0m     resp \u001b[39m=\u001b[39m \u001b[39mself\u001b[39;49m\u001b[39m.\u001b[39;49m_request(url, timeout\u001b[39m=\u001b[39;49mtimeout, headers\u001b[39m=\u001b[39;49mheaders)\n\u001b[0;32m    448\u001b[0m     \u001b[39mtry\u001b[39;00m:\n",
      "File \u001b[1;32mc:\\Users\\jerry\\Python_Projects\\test_environment3\\.venv\\lib\\site-packages\\geopy\\adapters.py:475\u001b[0m, in \u001b[0;36mRequestsAdapter._request\u001b[1;34m(self, url, timeout, headers)\u001b[0m\n\u001b[0;32m    474\u001b[0m     \u001b[39mif\u001b[39;00m resp\u001b[39m.\u001b[39mstatus_code \u001b[39m>\u001b[39m\u001b[39m=\u001b[39m \u001b[39m400\u001b[39m:\n\u001b[1;32m--> 475\u001b[0m         \u001b[39mraise\u001b[39;00m AdapterHTTPError(\n\u001b[0;32m    476\u001b[0m             \u001b[39m\"\u001b[39m\u001b[39mNon-successful status code \u001b[39m\u001b[39m%s\u001b[39;00m\u001b[39m\"\u001b[39m \u001b[39m%\u001b[39m resp\u001b[39m.\u001b[39mstatus_code,\n\u001b[0;32m    477\u001b[0m             status_code\u001b[39m=\u001b[39mresp\u001b[39m.\u001b[39mstatus_code,\n\u001b[0;32m    478\u001b[0m             headers\u001b[39m=\u001b[39mresp\u001b[39m.\u001b[39mheaders,\n\u001b[0;32m    479\u001b[0m             text\u001b[39m=\u001b[39mresp\u001b[39m.\u001b[39mtext,\n\u001b[0;32m    480\u001b[0m         )\n\u001b[0;32m    482\u001b[0m \u001b[39mreturn\u001b[39;00m resp\n",
      "\u001b[1;31mAdapterHTTPError\u001b[0m: Non-successful status code 502",
      "\nThe above exception was the direct cause of the following exception:\n",
      "\u001b[1;31mGeocoderServiceError\u001b[0m                      Traceback (most recent call last)",
      "Cell \u001b[1;32mIn[3], line 11\u001b[0m\n\u001b[0;32m      5\u001b[0m test_point \u001b[39m=\u001b[39m Point(\u001b[39m5.409999\u001b[39m, \u001b[39m10.000000\u001b[39m)\n\u001b[0;32m      6\u001b[0m \u001b[39m# test_point2 = Point(5.439999, 0.000000)\u001b[39;00m\n\u001b[0;32m      7\u001b[0m \u001b[39m# x should be latitude and try to find the range it can coexist in\u001b[39;00m\n\u001b[0;32m      8\u001b[0m \u001b[39m# for x in range(0, 84)\u001b[39;00m\n\u001b[0;32m      9\u001b[0m \u001b[39m# y should be longitude and try to find the range it can coexist in\u001b[39;00m\n\u001b[0;32m     10\u001b[0m \u001b[39m# for y in range(-179.999999,179.999999)\u001b[39;00m\n\u001b[1;32m---> 11\u001b[0m location1 \u001b[39m=\u001b[39m geolocator\u001b[39m.\u001b[39;49mreverse(query\u001b[39m=\u001b[39;49mcoordinates_list,exactly_one\u001b[39m=\u001b[39;49m\u001b[39m'\u001b[39;49m\u001b[39mTrue\u001b[39;49m\u001b[39m'\u001b[39;49m)\n\u001b[0;32m     12\u001b[0m \u001b[39m#location2 = geolocator.reverse(query=coordinates_list,exactly_one='True')\u001b[39;00m\n\u001b[0;32m     13\u001b[0m \u001b[39mprint\u001b[39m(location1)\n",
      "File \u001b[1;32mc:\\Users\\jerry\\Python_Projects\\test_environment3\\.venv\\lib\\site-packages\\geopy\\geocoders\\nominatim.py:372\u001b[0m, in \u001b[0;36mNominatim.reverse\u001b[1;34m(self, query, exactly_one, timeout, language, addressdetails, zoom, namedetails)\u001b[0m\n\u001b[0;32m    370\u001b[0m logger\u001b[39m.\u001b[39mdebug(\u001b[39m\"\u001b[39m\u001b[39m%s\u001b[39;00m\u001b[39m.reverse: \u001b[39m\u001b[39m%s\u001b[39;00m\u001b[39m\"\u001b[39m, \u001b[39mself\u001b[39m\u001b[39m.\u001b[39m\u001b[39m__class__\u001b[39m\u001b[39m.\u001b[39m\u001b[39m__name__\u001b[39m, url)\n\u001b[0;32m    371\u001b[0m callback \u001b[39m=\u001b[39m partial(\u001b[39mself\u001b[39m\u001b[39m.\u001b[39m_parse_json, exactly_one\u001b[39m=\u001b[39mexactly_one)\n\u001b[1;32m--> 372\u001b[0m \u001b[39mreturn\u001b[39;00m \u001b[39mself\u001b[39;49m\u001b[39m.\u001b[39;49m_call_geocoder(url, callback, timeout\u001b[39m=\u001b[39;49mtimeout)\n",
      "File \u001b[1;32mc:\\Users\\jerry\\Python_Projects\\test_environment3\\.venv\\lib\\site-packages\\geopy\\geocoders\\base.py:388\u001b[0m, in \u001b[0;36mGeocoder._call_geocoder\u001b[1;34m(self, url, callback, timeout, is_json, headers)\u001b[0m\n\u001b[0;32m    386\u001b[0m         \u001b[39mreturn\u001b[39;00m callback(result)\n\u001b[0;32m    387\u001b[0m \u001b[39mexcept\u001b[39;00m \u001b[39mException\u001b[39;00m \u001b[39mas\u001b[39;00m error:\n\u001b[1;32m--> 388\u001b[0m     res \u001b[39m=\u001b[39m \u001b[39mself\u001b[39;49m\u001b[39m.\u001b[39;49m_adapter_error_handler(error)\n\u001b[0;32m    389\u001b[0m     \u001b[39mif\u001b[39;00m res \u001b[39mis\u001b[39;00m NONE_RESULT:\n\u001b[0;32m    390\u001b[0m         \u001b[39mreturn\u001b[39;00m \u001b[39mNone\u001b[39;00m\n",
      "File \u001b[1;32mc:\\Users\\jerry\\Python_Projects\\test_environment3\\.venv\\lib\\site-packages\\geopy\\geocoders\\base.py:411\u001b[0m, in \u001b[0;36mGeocoder._adapter_error_handler\u001b[1;34m(self, error)\u001b[0m\n\u001b[0;32m    407\u001b[0m         \u001b[39mraise\u001b[39;00m exc_cls(\n\u001b[0;32m    408\u001b[0m             \u001b[39mstr\u001b[39m(error), retry_after\u001b[39m=\u001b[39mget_retry_after(error\u001b[39m.\u001b[39mheaders)\n\u001b[0;32m    409\u001b[0m         ) \u001b[39mfrom\u001b[39;00m \u001b[39merror\u001b[39;00m\n\u001b[0;32m    410\u001b[0m     \u001b[39melse\u001b[39;00m:\n\u001b[1;32m--> 411\u001b[0m         \u001b[39mraise\u001b[39;00m exc_cls(\u001b[39mstr\u001b[39m(error)) \u001b[39mfrom\u001b[39;00m \u001b[39merror\u001b[39;00m\n\u001b[0;32m    412\u001b[0m \u001b[39melse\u001b[39;00m:\n\u001b[0;32m    413\u001b[0m     res \u001b[39m=\u001b[39m \u001b[39mself\u001b[39m\u001b[39m.\u001b[39m_geocoder_exception_handler(error)\n",
      "\u001b[1;31mGeocoderServiceError\u001b[0m: Non-successful status code 502"
     ]
    }
   ],
   "source": [
    "from geopy.geocoders import Nominatim\n",
    "from geopy.point import Point\n",
    "geolocator = Nominatim(user_agent=\"market_research_V1\")\n",
    "coordinates_list=[]\n",
    "test_point = Point(5.409999, 10.000000)\n",
    "# test_point2 = Point(5.439999, 0.000000)\n",
    "# x should be latitude and try to find the range it can coexist in\n",
    "# for x in range(0, 84)\n",
    "# y should be longitude and try to find the range it can coexist in\n",
    "# for y in range(-179.999999,179.999999)\n",
    "location1 = geolocator.reverse(query=coordinates_list,exactly_one='True')\n",
    "#location2 = geolocator.reverse(query=coordinates_list,exactly_one='True')\n",
    "print(location1)\n",
    "#print(location2)"
   ]
  },
  {
   "attachments": {},
   "cell_type": "markdown",
   "metadata": {},
   "source": [
    "##### Creating a list of all geographic coordinates to 6 decimal places:"
   ]
  },
  {
   "cell_type": "code",
   "execution_count": 102,
   "metadata": {},
   "outputs": [],
   "source": [
    "#for y in range(int(-179.999999),int(179.999999)):\n",
    "#    print(y)\n",
    "import numpy as np\n",
    "\n",
    "for i in np.arange(-79.999999,79.999999, 0.000001):\n",
    "    print(i, end=',')\n",
    "# Find the smallest gap in latitude and longitude where the coordinates usually change the location\n",
    "# If it's not consistent then below if the second option\n",
    "# You could create a dataframe of locations with their geographic coordinates\n",
    "# Then you can return coordinates of places \n",
    "# \n"
   ]
  },
  {
   "attachments": {},
   "cell_type": "markdown",
   "metadata": {},
   "source": [
    "##### By using a DAG, Instagram search Results will be queried at a certain time interval"
   ]
  },
  {
   "attachments": {},
   "cell_type": "markdown",
   "metadata": {},
   "source": [
    "##### Cleaning the data containing Top 100 Instagram posts by Geographic Location"
   ]
  },
  {
   "cell_type": "code",
   "execution_count": null,
   "metadata": {},
   "outputs": [],
   "source": [
    "import os"
   ]
  },
  {
   "attachments": {},
   "cell_type": "markdown",
   "metadata": {},
   "source": [
    "##### Collecting Top TikTok Posts by Geographic Coordinate:"
   ]
  },
  {
   "cell_type": "code",
   "execution_count": null,
   "metadata": {},
   "outputs": [],
   "source": []
  }
 ],
 "metadata": {
  "kernelspec": {
   "display_name": ".venv",
   "language": "python",
   "name": "python3"
  },
  "language_info": {
   "codemirror_mode": {
    "name": "ipython",
    "version": 3
   },
   "file_extension": ".py",
   "mimetype": "text/x-python",
   "name": "python",
   "nbconvert_exporter": "python",
   "pygments_lexer": "ipython3",
   "version": "3.10.8"
  },
  "orig_nbformat": 4,
  "vscode": {
   "interpreter": {
    "hash": "7ca1680247713407ad8eed4b370d83512626c0f818c0e09f654efc26ece8f332"
   }
  }
 },
 "nbformat": 4,
 "nbformat_minor": 2
}
